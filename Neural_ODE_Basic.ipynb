{
  "nbformat": 4,
  "nbformat_minor": 0,
  "metadata": {
    "colab": {
      "name": "Neural ODE Basic.ipynb",
      "version": "0.3.2",
      "provenance": [],
      "collapsed_sections": []
    },
    "kernelspec": {
      "name": "python3",
      "display_name": "Python 3"
    },
    "accelerator": "GPU"
  },
  "cells": [
    {
      "cell_type": "code",
      "metadata": {
        "id": "2Fh9sIGm2X7g",
        "colab_type": "code",
        "outputId": "b9f65b36-c369-4e4a-f675-33c4c0da1e73",
        "colab": {
          "base_uri": "https://localhost:8080/",
          "height": 34
        }
      },
      "source": [
        "!git clone https://github.com/rtqichen/torchdiffeq.git"
      ],
      "execution_count": 0,
      "outputs": [
        {
          "output_type": "stream",
          "text": [
            "fatal: destination path 'torchdiffeq' already exists and is not an empty directory.\n"
          ],
          "name": "stdout"
        }
      ]
    },
    {
      "cell_type": "code",
      "metadata": {
        "id": "X86kkneH3YO3",
        "colab_type": "code",
        "outputId": "2091c457-28cb-4873-9b80-1febd74c936e",
        "colab": {
          "base_uri": "https://localhost:8080/",
          "height": 153
        }
      },
      "source": [
        "!cd torchdiffeq && pip install -e ."
      ],
      "execution_count": 0,
      "outputs": [
        {
          "output_type": "stream",
          "text": [
            "Obtaining file:///content/torchdiffeq\n",
            "Requirement already satisfied: torch>=0.4.1 in /usr/local/lib/python3.6/dist-packages (from torchdiffeq==0.0.1) (1.1.0)\n",
            "Requirement already satisfied: numpy in /usr/local/lib/python3.6/dist-packages (from torch>=0.4.1->torchdiffeq==0.0.1) (1.16.4)\n",
            "Installing collected packages: torchdiffeq\n",
            "  Found existing installation: torchdiffeq 0.0.1\n",
            "    Can't uninstall 'torchdiffeq'. No files were found to uninstall.\n",
            "  Running setup.py develop for torchdiffeq\n",
            "Successfully installed torchdiffeq\n"
          ],
          "name": "stdout"
        }
      ]
    },
    {
      "cell_type": "code",
      "metadata": {
        "id": "5SDzjdlr3ZOK",
        "colab_type": "code",
        "outputId": "76fef485-be0c-4fb5-9601-66353af69381",
        "colab": {
          "base_uri": "https://localhost:8080/",
          "height": 34
        }
      },
      "source": [
        "!ls torchdiffeq/torchdiffeq"
      ],
      "execution_count": 0,
      "outputs": [
        {
          "output_type": "stream",
          "text": [
            "_impl  __init__.py  __pycache__\n"
          ],
          "name": "stdout"
        }
      ]
    },
    {
      "cell_type": "code",
      "metadata": {
        "id": "1qN6kVEz3a7v",
        "colab_type": "code",
        "colab": {}
      },
      "source": [
        "# !wget https://www.dropbox.com/s/wmw93urz7e4mqo5/control_beats_6.npy\n",
        "# beats = np.load('control_beats_6.npy')"
      ],
      "execution_count": 0,
      "outputs": []
    },
    {
      "cell_type": "code",
      "metadata": {
        "id": "q6dmtsw_3cMt",
        "colab_type": "code",
        "colab": {}
      },
      "source": [
        "import os\n",
        "import time\n",
        "import numpy as np\n",
        "import numpy.random as npr\n",
        "import matplotlib.pyplot as plt\n",
        "\n",
        "import torch\n",
        "import torch.nn as nn\n",
        "import torch.optim as optim\n",
        "import torch.nn.functional as F\n",
        "\n",
        "# from torchdiffeq.torchdiffeq import odeint\n",
        "\n",
        "device = torch.device(\"cuda\" if torch.cuda.is_available() else \"cpu\")\n",
        "\n",
        "from torchdiffeq import odeint"
      ],
      "execution_count": 0,
      "outputs": []
    },
    {
      "cell_type": "code",
      "metadata": {
        "id": "6wg7n5aV4tBz",
        "colab_type": "code",
        "colab": {}
      },
      "source": [
        "batch_time = 10\n",
        "batch_size = 20\n",
        "data_size = 200\n",
        "\n",
        "viz = True"
      ],
      "execution_count": 0,
      "outputs": []
    },
    {
      "cell_type": "code",
      "metadata": {
        "id": "0Ig_nh6y4f3H",
        "colab_type": "code",
        "colab": {}
      },
      "source": [
        "def get_batch():\n",
        "    s = torch.from_numpy(np.random.choice(np.arange(data_size - batch_time, dtype=np.int64), batch_size, replace=False))\n",
        "    batch_y0 = true_y[s]  # (M, D)\n",
        "    batch_t = t[:batch_time]  # (T)\n",
        "    batch_y = torch.stack([true_y[s + i] for i in range(batch_time)], dim=0)  # (T, M, D)\n",
        "    return batch_y0, batch_t, batch_y\n",
        "\n",
        "\n",
        "def makedirs(dirname):\n",
        "    if not os.path.exists(dirname):\n",
        "        os.makedirs(dirname)"
      ],
      "execution_count": 0,
      "outputs": []
    },
    {
      "cell_type": "code",
      "metadata": {
        "id": "-E_KQScOSrYj",
        "colab_type": "code",
        "colab": {}
      },
      "source": [
        "DATA_TYPE = 'NNET_MORE'"
      ],
      "execution_count": 0,
      "outputs": []
    },
    {
      "cell_type": "code",
      "metadata": {
        "id": "Jf9zrQne5h1j",
        "colab_type": "code",
        "colab": {}
      },
      "source": [
        "if viz:\n",
        "    makedirs(DATA_TYPE)\n",
        "    import matplotlib.pyplot as plt\n",
        "\n",
        "def visualize(true_y, pred_y, odefunc, itr):\n",
        "  \n",
        "    if viz:\n",
        "      \n",
        "        plt.figure()\n",
        "        plt.plot(t.numpy(), true_y.numpy()[:, 0, 0], t.numpy(), true_y.numpy()[:, 0, 1], 'g-')\n",
        "        plt.plot(t.numpy(), pred_y.numpy()[:, 0, 0], '--', t.numpy(), pred_y.numpy()[:, 0, 1], 'b--')\n",
        "        plt.savefig(DATA_TYPE + '/ts' + str(itr) + '.png')\n",
        "        plt.show()\n",
        "        \n",
        "        plt.figure()\n",
        "        plt.plot(true_y.numpy()[:, 0, 0], true_y.numpy()[:, 0, 1], 'g-')\n",
        "        plt.plot(pred_y.numpy()[:, 0, 0], pred_y.numpy()[:, 0, 1], 'b--')\n",
        "        plt.savefig(DATA_TYPE + '/phase' + str(itr) + '.png')\n",
        "        plt.show()"
      ],
      "execution_count": 0,
      "outputs": []
    },
    {
      "cell_type": "code",
      "metadata": {
        "id": "ObgT2pd54yXw",
        "colab_type": "code",
        "colab": {}
      },
      "source": [
        "class RunningAverageMeter(object):\n",
        "    \"\"\"Computes and stores the average and current value\"\"\"\n",
        "\n",
        "    def __init__(self, momentum=0.99):\n",
        "        self.momentum = momentum\n",
        "        self.reset()\n",
        "\n",
        "    def reset(self):\n",
        "        self.val = None\n",
        "        self.avg = 0\n",
        "\n",
        "    def update(self, val):\n",
        "        if self.val is None:\n",
        "            self.avg = val\n",
        "        else:\n",
        "            self.avg = self.avg * self.momentum + val * (1 - self.momentum)\n",
        "        self.val = val"
      ],
      "execution_count": 0,
      "outputs": []
    },
    {
      "cell_type": "code",
      "metadata": {
        "id": "MYIbsANj8Upx",
        "colab_type": "code",
        "colab": {}
      },
      "source": [
        "class ODEFunc(nn.Module):\n",
        "\n",
        "    def __init__(self):\n",
        "        super(ODEFunc, self).__init__()\n",
        "\n",
        "        self.net = nn.Sequential(\n",
        "            nn.Linear(2, 50),\n",
        "            nn.Tanh(),\n",
        "            nn.Linear(50, 2),\n",
        "        )\n",
        "\n",
        "        for m in self.net.modules():\n",
        "            if isinstance(m, nn.Linear):\n",
        "                nn.init.normal_(m.weight, mean=0, std=0.1)\n",
        "                nn.init.constant_(m.bias, val=0)\n",
        "\n",
        "    def forward(self, t, y):\n",
        "        return self.net(y)\n"
      ],
      "execution_count": 0,
      "outputs": []
    },
    {
      "cell_type": "code",
      "metadata": {
        "id": "73k21V_VEfd-",
        "colab_type": "code",
        "colab": {}
      },
      "source": [
        "true_y0 = torch.tensor([[1., 1.]])\n",
        "t = torch.linspace(-1., 1., data_size)\n",
        "\n",
        "# true_A = torch.tensor([[-0.1, 2.0], [-2.0, -0.1]])\n",
        "# true_A = torch.randn(2, 2)/2.\n",
        "\n",
        "# a, b, c, d = 1.5, 1.0, 3.0, 1.0\n",
        "# true_A = torch.tensor([[0., -b*c/d], [d*a/b, 0.]])\n",
        "\n",
        "# true_A2 = torch.tensor([[-0.1, -0.5], [0.5, -0.1]])\n",
        "# true_B2 = torch.tensor([[0.2, 1.], [-1, 0.2]])\n",
        "\n",
        "class Lambda(nn.Module):\n",
        "\n",
        "    def forward(self, t, y):\n",
        "        return torch.mm(y, true_A)\n",
        "   \n",
        "      \n",
        "class Lambda2(nn.Module):\n",
        "    \n",
        "    def __init__(self, A, B):\n",
        "        super(Lambda2, self).__init__()\n",
        "        self.A = nn.Linear(2, 2, bias=False)\n",
        "        self.A.weight = nn.Parameter(A)\n",
        "        self.B = nn.Linear(2, 2, bias=False)\n",
        "        self.B.weight = nn.Parameter(B)\n",
        "    \n",
        "    def forward(self, t, y):\n",
        "        xTx0 = torch.sum(y * true_y0, dim=1)\n",
        "        dxdt = torch.sigmoid(xTx0) * self.A(y - true_y0) + torch.sigmoid(-xTx0) * self.B(y + true_y0)\n",
        "        return dxdt\n",
        "      \n",
        "# with torch.no_grad():\n",
        "#     true_y = odeint(Lambda2(true_A2, true_B2), true_y0, t, method='dopri5')\n",
        "    \n",
        "# with torch.no_grad():\n",
        "#     true_y = odeint(Lambda(), true_y0, t, method='dopri5')"
      ],
      "execution_count": 0,
      "outputs": []
    },
    {
      "cell_type": "code",
      "metadata": {
        "id": "2Wjyhn6jmPd0",
        "colab_type": "code",
        "colab": {}
      },
      "source": [
        "true_y0 = torch.tensor([[1., 1.]])\n",
        "t = torch.linspace(-15., 15., data_size)\n",
        "\n",
        "\n",
        "class Lambda3(nn.Module):\n",
        "  \n",
        "    def __init__(self):\n",
        "        super(Lambda3, self).__init__()\n",
        "        self.fc1 = nn.Linear(2, 25, bias = False)\n",
        "        self.fc2 = nn.Linear(25, 50, bias = False)\n",
        "        self.fc3 = nn.Linear(50, 10, bias = False)\n",
        "        self.fc4 = nn.Linear(10, 2, bias = False)\n",
        "        self.relu = nn.ELU(inplace=True)\n",
        "        \n",
        "    def forward(self, t, y):\n",
        "        x = self.relu(self.fc1(y * t))\n",
        "        x = self.relu(self.fc2(x))\n",
        "        x = self.relu(self.fc3(x))\n",
        "        x = self.relu(self.fc4(x))\n",
        "        return x\n",
        "     \n",
        "with torch.no_grad():\n",
        "    true_y = odeint(Lambda3(), true_y0, t, method='dopri5')"
      ],
      "execution_count": 0,
      "outputs": []
    },
    {
      "cell_type": "code",
      "metadata": {
        "id": "i6psvwfUqpfy",
        "colab_type": "code",
        "colab": {}
      },
      "source": [
        "class ODEFunc(nn.Module):\n",
        "\n",
        "    def __init__(self):\n",
        "        super(ODEFunc, self).__init__()\n",
        "\n",
        "        self.net = nn.Sequential(\n",
        "            nn.Linear(2, 150),\n",
        "            nn.Tanh(),\n",
        "            nn.Linear(150, 50),\n",
        "            nn.Tanh(),\n",
        "            nn.Linear(50, 50),\n",
        "            nn.Tanh(),\n",
        "            nn.Linear(50, 2),\n",
        "        )\n",
        "\n",
        "        for m in self.net.modules():\n",
        "            if isinstance(m, nn.Linear):\n",
        "                nn.init.normal_(m.weight, mean=0, std=0.1)\n",
        "                nn.init.constant_(m.bias, val=0)\n",
        "\n",
        "    def forward(self, t, y):\n",
        "        return self.net(y)\n"
      ],
      "execution_count": 0,
      "outputs": []
    },
    {
      "cell_type": "code",
      "metadata": {
        "id": "bUYHiVvEXhJY",
        "colab_type": "code",
        "outputId": "c11b710f-e742-4430-8a65-5590aba2b144",
        "colab": {
          "base_uri": "https://localhost:8080/",
          "height": 521
        }
      },
      "source": [
        "plt.figure()\n",
        "plt.plot(t.numpy(), true_y.numpy()[:, 0, 0], t.numpy(), true_y.numpy()[:, 0, 1], 'g-')\n",
        "plt.show()\n",
        "\n",
        "plt.figure()\n",
        "plt.plot(true_y.numpy()[:, 0, 0], true_y.numpy()[:, 0, 1], 'g-')\n",
        "plt.show()"
      ],
      "execution_count": 0,
      "outputs": [
        {
          "output_type": "display_data",
          "data": {
            "image/png": "[encoded data removed]",
            "text/plain": [
              "<Figure size 432x288 with 1 Axes>"
            ]
          },
          "metadata": {
            "tags": []
          }
        },
        {
          "output_type": "display_data",
          "data": {
            "image/png": "[encoded data removed]",
            "text/plain": [
              "<Figure size 432x288 with 1 Axes>"
            ]
          },
          "metadata": {
            "tags": []
          }
        }
      ]
    },
    {
      "cell_type": "code",
      "metadata": {
        "id": "Huz2sGY85azt",
        "colab_type": "code",
        "colab": {}
      },
      "source": [
        "  ii = 0\n",
        "  niters = 5000\n",
        "\n",
        "  func = ODEFunc()\n",
        "  optimizer = optim.RMSprop(func.parameters(), lr=1e-3)\n",
        "  end = time.time()\n",
        "\n",
        "  time_meter = RunningAverageMeter(0.97)\n",
        "  loss_meter = RunningAverageMeter(0.97)\n",
        "\n",
        "  for itr in range(1, niters + 1):\n",
        "      optimizer.zero_grad()\n",
        "      batch_y0, batch_t, batch_y = get_batch()\n",
        "      pred_y = odeint(func, batch_y0, batch_t)\n",
        "      loss = torch.mean(torch.abs(pred_y - batch_y))\n",
        "      loss.backward()\n",
        "      optimizer.step()\n",
        "\n",
        "      time_meter.update(time.time() - end)\n",
        "      loss_meter.update(loss.item())\n",
        "\n",
        "      if itr % 50 == 0:\n",
        "          with torch.no_grad():\n",
        "              pred_y = odeint(func, true_y0, t)\n",
        "              loss = torch.mean(torch.abs(pred_y - true_y))\n",
        "              print('Iter {:04d} | Total Loss {:.6f}'.format(itr, loss.item()))\n",
        "              visualize(true_y, pred_y, func, ii)\n",
        "              ii += 1\n",
        "\n",
        "      end = time.time()"
      ],
      "execution_count": 0,
      "outputs": []
    },
    {
      "cell_type": "code",
      "metadata": {
        "id": "y2RSZG4_xYhi",
        "colab_type": "code",
        "outputId": "c650796b-d1d3-4b9b-c482-71058e6a0dfc",
        "colab": {
          "base_uri": "https://localhost:8080/",
          "height": 1428
        }
      },
      "source": [
        "# !zip -r /content/VOLTERLOTKA.zip /content/VOLTERLOTKA"
      ],
      "execution_count": 0,
      "outputs": [
        {
          "output_type": "stream",
          "text": [
            "updating: content/VOLTERLOTKA/ (stored 0%)\n",
            "updating: content/VOLTERLOTKA/ts13.png (deflated 1%)\n",
            "updating: content/VOLTERLOTKA/ts29.png (deflated 1%)\n",
            "updating: content/VOLTERLOTKA/ts9.png (deflated 1%)\n",
            "updating: content/VOLTERLOTKA/ts24.png (deflated 1%)\n",
            "updating: content/VOLTERLOTKA/phase19.png (deflated 2%)\n",
            "updating: content/VOLTERLOTKA/phase37.png (deflated 2%)\n",
            "updating: content/VOLTERLOTKA/phase3.png (deflated 4%)\n",
            "updating: content/VOLTERLOTKA/ts27.png (deflated 1%)\n",
            "updating: content/VOLTERLOTKA/phase10.png (deflated 2%)\n",
            "updating: content/VOLTERLOTKA/ts26.png (deflated 1%)\n",
            "updating: content/VOLTERLOTKA/phase4.png (deflated 2%)\n",
            "updating: content/VOLTERLOTKA/phase2.png (deflated 2%)\n",
            "updating: content/VOLTERLOTKA/ts20.png (deflated 1%)\n",
            "updating: content/VOLTERLOTKA/phase7.png (deflated 2%)\n",
            "updating: content/VOLTERLOTKA/phase35.png (deflated 2%)\n",
            "updating: content/VOLTERLOTKA/phase8.png (deflated 2%)\n",
            "updating: content/VOLTERLOTKA/ts21.png (deflated 1%)\n",
            "updating: content/VOLTERLOTKA/phase22.png (deflated 4%)\n",
            "updating: content/VOLTERLOTKA/phase33.png (deflated 2%)\n",
            "updating: content/VOLTERLOTKA/ts3.png (deflated 1%)\n",
            "updating: content/VOLTERLOTKA/phase34.png (deflated 3%)\n",
            "updating: content/VOLTERLOTKA/ts28.png (deflated 1%)\n",
            "updating: content/VOLTERLOTKA/phase28.png (deflated 2%)\n",
            "updating: content/VOLTERLOTKA/ts35.png (deflated 1%)\n",
            "updating: content/VOLTERLOTKA/phase17.png (deflated 3%)\n",
            "updating: content/VOLTERLOTKA/phase27.png (deflated 2%)\n",
            "updating: content/VOLTERLOTKA/phase30.png (deflated 2%)\n",
            "updating: content/VOLTERLOTKA/ts34.png (deflated 1%)\n",
            "updating: content/VOLTERLOTKA/ts25.png (deflated 1%)\n",
            "updating: content/VOLTERLOTKA/ts23.png (deflated 1%)\n",
            "updating: content/VOLTERLOTKA/ts4.png (deflated 1%)\n",
            "updating: content/VOLTERLOTKA/ts1.png (deflated 1%)\n",
            "updating: content/VOLTERLOTKA/ts0.png (deflated 2%)\n",
            "updating: content/VOLTERLOTKA/ts22.png (deflated 1%)\n",
            "updating: content/VOLTERLOTKA/phase5.png (deflated 2%)\n",
            "updating: content/VOLTERLOTKA/ts19.png (deflated 1%)\n",
            "updating: content/VOLTERLOTKA/phase13.png (deflated 2%)\n",
            "updating: content/VOLTERLOTKA/phase25.png (deflated 2%)\n",
            "updating: content/VOLTERLOTKA/phase18.png (deflated 2%)\n",
            "updating: content/VOLTERLOTKA/ts38.png (deflated 1%)\n",
            "updating: content/VOLTERLOTKA/ts37.png (deflated 1%)\n",
            "updating: content/VOLTERLOTKA/ts10.png (deflated 1%)\n",
            "updating: content/VOLTERLOTKA/phase24.png (deflated 2%)\n",
            "updating: content/VOLTERLOTKA/ts5.png (deflated 1%)\n",
            "updating: content/VOLTERLOTKA/ts30.png (deflated 1%)\n",
            "updating: content/VOLTERLOTKA/phase21.png (deflated 2%)\n",
            "updating: content/VOLTERLOTKA/phase11.png (deflated 2%)\n",
            "updating: content/VOLTERLOTKA/ts2.png (deflated 1%)\n",
            "updating: content/VOLTERLOTKA/phase14.png (deflated 2%)\n",
            "updating: content/VOLTERLOTKA/phase1.png (deflated 2%)\n",
            "updating: content/VOLTERLOTKA/phase39.png (deflated 2%)\n",
            "updating: content/VOLTERLOTKA/phase29.png (deflated 2%)\n",
            "updating: content/VOLTERLOTKA/ts14.png (deflated 1%)\n",
            "updating: content/VOLTERLOTKA/ts12.png (deflated 1%)\n",
            "updating: content/VOLTERLOTKA/ts32.png (deflated 1%)\n",
            "updating: content/VOLTERLOTKA/phase6.png (deflated 4%)\n",
            "updating: content/VOLTERLOTKA/ts18.png (deflated 1%)\n",
            "updating: content/VOLTERLOTKA/phase20.png (deflated 2%)\n",
            "updating: content/VOLTERLOTKA/phase31.png (deflated 2%)\n",
            "updating: content/VOLTERLOTKA/ts11.png (deflated 1%)\n",
            "updating: content/VOLTERLOTKA/phase36.png (deflated 2%)\n",
            "updating: content/VOLTERLOTKA/ts8.png (deflated 1%)\n",
            "updating: content/VOLTERLOTKA/phase16.png (deflated 2%)\n",
            "updating: content/VOLTERLOTKA/phase32.png (deflated 2%)\n",
            "updating: content/VOLTERLOTKA/phase0.png (deflated 3%)\n",
            "updating: content/VOLTERLOTKA/ts16.png (deflated 1%)\n",
            "updating: content/VOLTERLOTKA/phase12.png (deflated 4%)\n",
            "updating: content/VOLTERLOTKA/phase38.png (deflated 4%)\n",
            "updating: content/VOLTERLOTKA/phase23.png (deflated 2%)\n",
            "updating: content/VOLTERLOTKA/ts7.png (deflated 1%)\n",
            "updating: content/VOLTERLOTKA/ts36.png (deflated 1%)\n",
            "updating: content/VOLTERLOTKA/phase9.png (deflated 2%)\n",
            "updating: content/VOLTERLOTKA/ts17.png (deflated 1%)\n",
            "updating: content/VOLTERLOTKA/ts33.png (deflated 1%)\n",
            "updating: content/VOLTERLOTKA/ts31.png (deflated 1%)\n",
            "updating: content/VOLTERLOTKA/phase26.png (deflated 2%)\n",
            "updating: content/VOLTERLOTKA/ts39.png (deflated 1%)\n",
            "updating: content/VOLTERLOTKA/ts15.png (deflated 1%)\n",
            "updating: content/VOLTERLOTKA/phase15.png (deflated 2%)\n",
            "updating: content/VOLTERLOTKA/ts6.png (deflated 1%)\n",
            "updating: content/VOLTERLOTKA/movie_ts.gif (deflated 17%)\n",
            "updating: content/VOLTERLOTKA/movie_phase.gif (deflated 31%)\n"
          ],
          "name": "stdout"
        }
      ]
    },
    {
      "cell_type": "code",
      "metadata": {
        "id": "7Rj72H_DUFmP",
        "colab_type": "code",
        "colab": {}
      },
      "source": [
        "# from google.colab import files"
      ],
      "execution_count": 0,
      "outputs": []
    },
    {
      "cell_type": "code",
      "metadata": {
        "id": "5gsoMmPpsucY",
        "colab_type": "code",
        "colab": {}
      },
      "source": [
        "# files.download(\"/content/AB.zip\")"
      ],
      "execution_count": 0,
      "outputs": []
    },
    {
      "cell_type": "code",
      "metadata": {
        "id": "5rtBMnlYv8eW",
        "colab_type": "code",
        "colab": {}
      },
      "source": [
        "# import imageio\n",
        "# import glob"
      ],
      "execution_count": 0,
      "outputs": []
    },
    {
      "cell_type": "code",
      "metadata": {
        "id": "XCMXdIizwDFl",
        "colab_type": "code",
        "colab": {}
      },
      "source": [
        "# kargs = { 'duration': 0.5 }\n",
        "# PATH = sorted(glob.glob('/content/VOLTERLOTKA/*.png'))\n",
        "\n",
        "# images = []\n",
        "# for filename in PATH:\n",
        "#     if 'ts' in filename:\n",
        "#       images.append(imageio.imread(filename))\n",
        "# imageio.mimsave('/content/VOLTERLOTKA/movie_ts.gif', images, **kargs)\n",
        "\n",
        "# images = []\n",
        "# for filename in PATH:\n",
        "#     if 'phase' in filename:\n",
        "#       images.append(imageio.imread(filename))\n",
        "# imageio.mimsave('/content/VOLTERLOTKA/movie_phase.gif', images, **kargs)"
      ],
      "execution_count": 0,
      "outputs": []
    }
  ]
}